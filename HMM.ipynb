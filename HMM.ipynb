{
 "cells": [
  {
   "cell_type": "markdown",
   "metadata": {},
   "source": [
    "# Modelos Ocultos de Markov\n",
    "\n",
    "Un HMM consiste de dos procesos estocásticos:\n",
    "\n",
    "1. Cadena de Markov (con estados ocultos)\n",
    "2. Emisión de símbolos observables\n",
    "\n",
    "En su totalidad, un HMM se denota como una 5-tupla:\n",
    "\n",
    "$\\lambda = (A, B, \\Pi, S, V)$\n",
    "\n",
    "1. Matriz de probabilidades de transición\n",
    "$$ A = \\{a_{ij}\\} = p(q_{t+1}=S_j|q_{t}=S_i)$$\n",
    "\n",
    "2. Matriz de probabilidades de emisión \n",
    "$$ B = \\{b_j(k)\\} = p(V_k|S_j) $$\n",
    "\n",
    "3. Vector de probabilidades de símbolo inicial\n",
    "$$\\Pi = \\{\\pi_i\\} = p(q_1 = S_i)$$\n",
    "\n",
    "4. Conjunto S de N estados finitos\n",
    "$$S = \\{S_1, \\dots, S_N \\}$$\n",
    "\n",
    "5. Conjunto V de M símbolos observables\n",
    "$$V = \\{V_1, \\dots, V_M\\}$$"
   ]
  },
  {
   "cell_type": "markdown",
   "metadata": {},
   "source": [
    "## Construcción de un HMM\n",
    "\n",
    "Para construir un HMM que de solución a un problema determinado, es necesario resolver tres pasos:\n",
    "\n",
    "1. Evaluación: Encontrar la probabilidad de la secuencia de observaciones dado un HMM.\n",
    "\n",
    "$$p(O|\\Lambda)$$\n",
    "\n",
    "2. Decodificación: Encontrar la secuencia de estados que maximiza la probabilidad de generar la secuencia observada. \n",
    "\n",
    "$$argmax\\{p(S|O)\\}$$\n",
    "\n",
    "3. Aprendizaje: Ajustar los parámetros del HMM para maximizar la probabilidad de las observaciones."
   ]
  },
  {
   "cell_type": "markdown",
   "metadata": {},
   "source": [
    "### 1) Evaluación \n",
    "\n",
    "Se requiere obtener la probabilidad de la secuencia de obsevaciones dado un HMM. Para ello se requiere obtener la probabilidad como una suma de todas las posibles combinaciones de los estados S del modelo, pero esto implica el cálculo  de $N^T$ operaciones lo cual es muy ineficiente.\n",
    "\n",
    "Existen dos formas de resolver este problema de una forma más sencilla que involucra ecuaciones recursivas.\n",
    "\n",
    "__1) Forward__\n",
    "\n",
    "Se define la variable auxiliar $\\alpha_{t}(j) = p(O_1, \\dots, O_T|\\Lambda)$\n",
    "\n",
    "$\\alpha_{t+1}(j) = b_{j}(O_{t+1})\\sum_{i=1}^{N}\\alpha_{t}(i)a_{ij}$\n",
    "\n",
    "$\\alpha_{1}(j) = \\pi_{j}b_{j}(O_{1})$\n",
    "\n",
    "Al final, la probabilidad deseada se obtiene como:\n",
    "\n",
    "$p(O|\\Lambda) = \\sum_{i=1}^{N}\\alpha_{T}(i)$\n",
    "\n",
    "__2) Backward__\n",
    "\n",
    "Se define la variable auxiliar $\\beta_{t}(i) = p(O_1, \\dots, O_T|\\Lambda)$\n",
    "\n",
    "$\\beta_{t}(i) = \\sum_{j=1}^{N}b_{i}(O_{t+1})\\beta_{t+1}(j)a_{ij}$\n",
    "\n",
    "$\\beta_{T}(i) = 1$"
   ]
  }
 ],
 "metadata": {
  "kernelspec": {
   "display_name": "Python 3",
   "language": "python",
   "name": "python3"
  },
  "language_info": {
   "codemirror_mode": {
    "name": "ipython",
    "version": 3
   },
   "file_extension": ".py",
   "mimetype": "text/x-python",
   "name": "python",
   "nbconvert_exporter": "python",
   "pygments_lexer": "ipython3",
   "version": "3.7.1"
  }
 },
 "nbformat": 4,
 "nbformat_minor": 2
}
